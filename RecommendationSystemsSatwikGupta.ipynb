{
  "nbformat": 4,
  "nbformat_minor": 0,
  "metadata": {
    "colab": {
      "provenance": []
    },
    "kernelspec": {
      "name": "python3",
      "display_name": "Python 3"
    },
    "language_info": {
      "name": "python"
    }
  },
  "cells": [
    {
      "cell_type": "code",
      "execution_count": 4,
      "metadata": {
        "colab": {
          "base_uri": "https://localhost:8080/",
          "height": 0
        },
        "id": "Zns1lgiAPmUV",
        "outputId": "f1f6e08c-569c-401e-bad1-ffe50aef32b4"
      },
      "outputs": [
        {
          "output_type": "stream",
          "name": "stdout",
          "text": [
            "   anime_id                              name  \\\n",
            "0     32281                    Kimi no Na wa.   \n",
            "1      5114  Fullmetal Alchemist: Brotherhood   \n",
            "2     28977                          Gintama°   \n",
            "3      9253                       Steins;Gate   \n",
            "4      9969                     Gintama&#039;   \n",
            "\n",
            "                                               genre   type episodes  rating  \\\n",
            "0               Drama, Romance, School, Supernatural  Movie        1    9.37   \n",
            "1  Action, Adventure, Drama, Fantasy, Magic, Mili...     TV       64    9.26   \n",
            "2  Action, Comedy, Historical, Parody, Samurai, S...     TV       51    9.25   \n",
            "3                                   Sci-Fi, Thriller     TV       24    9.17   \n",
            "4  Action, Comedy, Historical, Parody, Samurai, S...     TV       51    9.16   \n",
            "\n",
            "   members  \n",
            "0   200630  \n",
            "1   793665  \n",
            "2   114262  \n",
            "3   673572  \n",
            "4   151266  \n",
            "<class 'pandas.core.frame.DataFrame'>\n",
            "RangeIndex: 12294 entries, 0 to 12293\n",
            "Data columns (total 7 columns):\n",
            " #   Column    Non-Null Count  Dtype  \n",
            "---  ------    --------------  -----  \n",
            " 0   anime_id  12294 non-null  int64  \n",
            " 1   name      12294 non-null  object \n",
            " 2   genre     12232 non-null  object \n",
            " 3   type      12269 non-null  object \n",
            " 4   episodes  12294 non-null  object \n",
            " 5   rating    12064 non-null  float64\n",
            " 6   members   12294 non-null  int64  \n",
            "dtypes: float64(1), int64(2), object(4)\n",
            "memory usage: 672.5+ KB\n",
            "None\n"
          ]
        }
      ],
      "source": [
        "import pandas as pd\n",
        "\n",
        "# Load dataset\n",
        "df = pd.read_csv('anime.csv')\n",
        "print(df.head())  # View the first few rows\n",
        "print(df.info())  # Summary of data types and null values\n"
      ]
    },
    {
      "cell_type": "code",
      "source": [
        "# Check for missing values\n",
        "print(df.isnull().sum())\n",
        "\n",
        "# Drop rows with missing 'name' or 'genre'\n",
        "df.dropna(subset=['name', 'genre'], inplace=True)\n",
        "\n",
        "# Fill missing ratings with the mean rating\n",
        "df['rating'].fillna(df['rating'].mean(), inplace=True)\n"
      ],
      "metadata": {
        "colab": {
          "base_uri": "https://localhost:8080/",
          "height": 0
        },
        "id": "G5Mxc87YQr8r",
        "outputId": "fe3688a0-3f01-43ab-ed30-c15f7a24e851"
      },
      "execution_count": 5,
      "outputs": [
        {
          "output_type": "stream",
          "name": "stdout",
          "text": [
            "anime_id      0\n",
            "name          0\n",
            "genre        62\n",
            "type         25\n",
            "episodes      0\n",
            "rating      230\n",
            "members       0\n",
            "dtype: int64\n"
          ]
        },
        {
          "output_type": "stream",
          "name": "stderr",
          "text": [
            "<ipython-input-5-a9fd04cc6644>:8: FutureWarning: A value is trying to be set on a copy of a DataFrame or Series through chained assignment using an inplace method.\n",
            "The behavior will change in pandas 3.0. This inplace method will never work because the intermediate object on which we are setting values always behaves as a copy.\n",
            "\n",
            "For example, when doing 'df[col].method(value, inplace=True)', try using 'df.method({col: value}, inplace=True)' or df[col] = df[col].method(value) instead, to perform the operation inplace on the original object.\n",
            "\n",
            "\n",
            "  df['rating'].fillna(df['rating'].mean(), inplace=True)\n"
          ]
        }
      ]
    },
    {
      "cell_type": "code",
      "source": [
        "# Split genres into a list and one-hot encode them\n",
        "df['genre'] = df['genre'].str.split(', ')\n",
        "genre_df = df['genre'].str.join('|').str.get_dummies()\n",
        "\n",
        "# One-hot encode 'type' column as well\n",
        "type_df = pd.get_dummies(df['type'])\n"
      ],
      "metadata": {
        "id": "1gNa74DtSJR1"
      },
      "execution_count": 6,
      "outputs": []
    },
    {
      "cell_type": "code",
      "source": [
        "from sklearn.preprocessing import MinMaxScaler\n",
        "\n",
        "scaler = MinMaxScaler()\n",
        "df[['rating', 'members']] = scaler.fit_transform(df[['rating', 'members']])\n"
      ],
      "metadata": {
        "id": "df68S08BSSl1"
      },
      "execution_count": 7,
      "outputs": []
    },
    {
      "cell_type": "code",
      "source": [
        "# Concatenate genre, type, rating, and members into one DataFrame\n",
        "features_df = pd.concat([genre_df, type_df, df[['rating', 'members']]], axis=1)\n"
      ],
      "metadata": {
        "id": "mMe-_WBKSV53"
      },
      "execution_count": 8,
      "outputs": []
    },
    {
      "cell_type": "code",
      "source": [
        "from sklearn.metrics.pairwise import cosine_similarity\n",
        "\n",
        "# Compute the cosine similarity matrix\n",
        "cosine_sim = cosine_similarity(features_df)\n"
      ],
      "metadata": {
        "id": "UinW9U-XSYWg"
      },
      "execution_count": 9,
      "outputs": []
    },
    {
      "cell_type": "code",
      "source": [
        "def recommend_anime(anime_name, df, cosine_sim, threshold=0.5, top_n=10):\n",
        "    # Get the index of the anime by name\n",
        "    index = df[df['name'] == anime_name].index[0]\n",
        "\n",
        "    # Retrieve similarity scores for this anime\n",
        "    sim_scores = list(enumerate(cosine_sim[index]))\n",
        "\n",
        "    # Filter based on threshold and sort by similarity score\n",
        "    sim_scores = sorted([s for s in sim_scores if s[1] > threshold], key=lambda x: x[1], reverse=True)\n",
        "\n",
        "    # Get indices of top similar animes\n",
        "    top_indices = [i[0] for i in sim_scores[1:top_n+1]]\n",
        "\n",
        "    # Return the names of top recommended anime\n",
        "    return df['name'].iloc[top_indices].tolist()\n",
        "\n",
        "# Example usage\n",
        "print(recommend_anime(\"Naruto\", df, cosine_sim, threshold=0.6, top_n=5))\n"
      ],
      "metadata": {
        "colab": {
          "base_uri": "https://localhost:8080/",
          "height": 0
        },
        "id": "GXiEJ4IbSbyS",
        "outputId": "8e0e7abd-950b-40b7-df61-5b381d45516c"
      },
      "execution_count": 10,
      "outputs": [
        {
          "output_type": "stream",
          "name": "stdout",
          "text": [
            "['Naruto: Shippuuden', 'Katekyo Hitman Reborn!', 'Dragon Ball Z', 'Bleach', 'Dragon Ball Kai']\n"
          ]
        }
      ]
    },
    {
      "cell_type": "code",
      "source": [
        "from sklearn.metrics import precision_score, recall_score, f1_score\n",
        "\n",
        "# Calculate precision, recall, and F1 (example with placeholders)\n",
        "# precision_score(y_true, y_pred, average='macro')\n"
      ],
      "metadata": {
        "id": "R1QE-wHmSeFM"
      },
      "execution_count": 11,
      "outputs": []
    },
    {
      "cell_type": "markdown",
      "source": [
        "#Interview Questions\n",
        "1. Can you explain the difference between user-based and item-based collaborative filtering?\n",
        "\n",
        " Ans. User-based filtering recommends items based on similar users’ preferences, while item-based filtering suggests items similar to what a user has already liked. User-based focuses on finding users with shared tastes, whereas item-based focuses on item similarity, often making it more scalable for large user bases.\n",
        "\n",
        "2. What is collaborative filtering, and how does it work?\n",
        "\n",
        " Ans. Collaborative filtering uses user behavior (like ratings or purchases) to make recommendations, without needing item details. It works by either finding similar users (user-based) or similar items (item-based) to generate personalized suggestions."
      ],
      "metadata": {
        "id": "159e9miYTVmI"
      }
    }
  ]
}