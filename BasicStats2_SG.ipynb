{
  "nbformat": 4,
  "nbformat_minor": 0,
  "metadata": {
    "colab": {
      "provenance": []
    },
    "kernelspec": {
      "name": "python3",
      "display_name": "Python 3"
    },
    "language_info": {
      "name": "python"
    }
  },
  "cells": [
    {
      "cell_type": "markdown",
      "source": [
        "#ESTIMATION AND CONFIDENCE INTERVALS\n",
        "\n",
        "\n",
        "**Background**\n",
        "\n",
        "In quality control processes, especially when dealing with high-value items, destructive sampling is a necessary but costly method to ensure product quality. The test to determine whether an item meets the quality standards destroys the item, leading to the requirement of small sample sizes due to cost constraints.\n",
        "\n",
        "**Scenario**\n",
        "\n",
        "A manufacturer of print-heads for personal computers is interested in estimating the mean durability of their print-heads in terms of the number of characters printed before failure. To assess this, the manufacturer conducts a study on a small sample of print-heads due to the destructive nature of the testing process.\n",
        "\n",
        "**Data**\n",
        "\n",
        "A total of 15 print-heads were randomly selected and tested until failure. The durability of each print-head (in millions of characters) was recorded as follows:\n",
        "\n",
        "1.13, 1.55, 1.43, 0.92, 1.25, 1.36, 1.32, 0.85, 1.07, 1.48, 1.20, 1.33, 1.18, 1.22, 1.29\n",
        "\n",
        "**Assignment Tasks**\n",
        "\n",
        "**a. Build 99% Confidence Interval Using Sample Standard Deviation.**\n",
        "\n",
        "Assuming the sample is representative of the population, construct a 99% confidence interval for the mean number of characters printed before the print-head fails using the sample standard deviation. Explain the steps you take and the rationale behind using the t-distribution for this task.\n",
        "\n",
        "**b. Build 99% Confidence Interval Using Known Population Standard Deviation**\n",
        "If it were known that the population standard deviation is 0.2 million characters, construct a 99% confidence interval for the mean number of characters printed before failure."
      ],
      "metadata": {
        "id": "W1L-Q9R98bCz"
      }
    },
    {
      "cell_type": "code",
      "execution_count": 1,
      "metadata": {
        "colab": {
          "base_uri": "https://localhost:8080/"
        },
        "id": "m-RliI6b7ye-",
        "outputId": "00e7b7d1-a793-4df3-b4e8-4b2514d4200d"
      },
      "outputs": [
        {
          "output_type": "stream",
          "name": "stdout",
          "text": [
            "99% Confidence Interval using Sample Standard Deviation:\n",
            "(1.090, 1.387)\n",
            "99% Confidence Interval using Known Population Standard Deviation:\n",
            "(1.106, 1.372)\n"
          ]
        }
      ],
      "source": [
        "import numpy as np\n",
        "from scipy import stats\n",
        "\n",
        "# Given data\n",
        "data = [1.13, 1.55, 1.43, 0.92, 1.25, 1.36, 1.32, 0.85, 1.07, 1.48, 1.20, 1.33, 1.18, 1.22, 1.29]\n",
        "\n",
        "# Calculate sample mean and standard deviation\n",
        "sample_mean = np.mean(data)\n",
        "sample_std = np.std(data, ddof=1)  # ddof=1 for sample standard deviation\n",
        "\n",
        "# a. 99% Confidence Interval using Sample Standard Deviation\n",
        "n = len(data)\n",
        "df = n - 1\n",
        "alpha = 0.01\n",
        "t_critical = stats.t.ppf(1 - alpha/2, df)\n",
        "margin_of_error = t_critical * (sample_std / np.sqrt(n))\n",
        "lower_bound = sample_mean - margin_of_error\n",
        "upper_bound = sample_mean + margin_of_error\n",
        "\n",
        "print(\"99% Confidence Interval using Sample Standard Deviation:\")\n",
        "print(f\"({lower_bound:.3f}, {upper_bound:.3f})\")\n",
        "\n",
        "# b. 99% Confidence Interval using Known Population Standard Deviation\n",
        "population_std = 0.2\n",
        "z_critical = stats.norm.ppf(1 - alpha/2)\n",
        "margin_of_error = z_critical * (population_std / np.sqrt(n))\n",
        "lower_bound = sample_mean - margin_of_error\n",
        "upper_bound = sample_mean + margin_of_error\n",
        "\n",
        "print(\"99% Confidence Interval using Known Population Standard Deviation:\")\n",
        "print(f\"({lower_bound:.3f}, {upper_bound:.3f})\")\n"
      ]
    }
  ]
}