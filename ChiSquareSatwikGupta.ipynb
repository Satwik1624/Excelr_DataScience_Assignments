{
  "nbformat": 4,
  "nbformat_minor": 0,
  "metadata": {
    "colab": {
      "provenance": []
    },
    "kernelspec": {
      "name": "python3",
      "display_name": "Python 3"
    },
    "language_info": {
      "name": "python"
    }
  },
  "cells": [
    {
      "cell_type": "markdown",
      "source": [
        "### Hypotheses\n",
        "- **Null Hypothesis (H₀)**: There is no association between the type of device purchased (Smart Thermostats vs. Smart Lights) and the customer satisfaction level.\n",
        "- **Alternative Hypothesis (H₁)**: There is an association between the type of device purchased and customer satisfaction.\n"
      ],
      "metadata": {
        "id": "dsnN-RSH4-2b"
      }
    },
    {
      "cell_type": "code",
      "execution_count": null,
      "metadata": {
        "colab": {
          "base_uri": "https://localhost:8080/"
        },
        "id": "zfsax5RnzxFj",
        "outputId": "53994cd3-0b11-42ff-e5da-5c6b3aa1b813"
      },
      "outputs": [
        {
          "output_type": "stream",
          "name": "stdout",
          "text": [
            "Contingency Table:\n",
            "                   Smart Thermostat  Smart Light\n",
            "Very Satisfied                  50           70\n",
            "Satisfied                       80          100\n",
            "Neutral                         60           90\n",
            "Unsatisfied                     30           50\n",
            "Very Unsatisfied                20           50\n"
          ]
        }
      ],
      "source": [
        "import numpy as np\n",
        "import pandas as pd\n",
        "from scipy.stats import chi2_contingency, chi2\n",
        "\n",
        "# Create a contingency table (the data you provided)\n",
        "data = np.array([[50, 70], [80, 100], [60, 90], [30, 50], [20, 50]])\n",
        "df = pd.DataFrame(data, columns=[\"Smart Thermostat\", \"Smart Light\"],\n",
        "                  index=[\"Very Satisfied\", \"Satisfied\", \"Neutral\", \"Unsatisfied\", \"Very Unsatisfied\"])\n",
        "\n",
        "# Display the table\n",
        "print(\"Contingency Table:\\n\", df)"
      ]
    },
    {
      "cell_type": "markdown",
      "source": [
        "### Compute the Chi-Square Statistic\n",
        "- We calculated the Chi-Square statistic using the observed and expected frequencies from the contingency table.\n",
        "- The Chi-Square statistic is used to determine how far the observed values deviate from the expected values under the assumption of the null hypothesis.\n",
        "\n",
        "  Code Below"
      ],
      "metadata": {
        "id": "okHiwIuG5gsM"
      }
    },
    {
      "cell_type": "code",
      "source": [
        "# Perform Chi-Square test\n",
        "chi2_statistic, p, dof, expected = chi2_contingency(data)\n",
        "\n",
        "# Results\n",
        "print(f\"Chi-Square Statistic: {chi2_statistic}\")\n",
        "print(f\"P-Value: {p}\")\n",
        "print(f\"Degrees of Freedom: {dof}\")\n",
        "print(\"Expected Frequencies:\\n\", expected)\n"
      ],
      "metadata": {
        "colab": {
          "base_uri": "https://localhost:8080/"
        },
        "id": "dWcqoz5Y2Ig7",
        "outputId": "c8d58812-fc39-4c56-8118-45238b584d06"
      },
      "execution_count": null,
      "outputs": [
        {
          "output_type": "stream",
          "name": "stdout",
          "text": [
            "Chi-Square Statistic: 5.638227513227513\n",
            "P-Value: 0.22784371130697179\n",
            "Degrees of Freedom: 4\n",
            "Expected Frequencies:\n",
            " [[ 48.  72.]\n",
            " [ 72. 108.]\n",
            " [ 60.  90.]\n",
            " [ 32.  48.]\n",
            " [ 28.  42.]]\n"
          ]
        }
      ]
    },
    {
      "cell_type": "markdown",
      "source": [
        "### Determine the Critical Value\n",
        "- The critical value was computed using the Chi-Square distribution at a significance level (α) of 0.05 and the degrees of freedom (calculated as (rows - 1) × (columns - 1)).\n",
        "- This critical value helps determine whether the Chi-Square statistic is large enough to reject the null hypothesis.\n",
        "\n",
        "  Code Below"
      ],
      "metadata": {
        "id": "BcLNDM0d7EtV"
      }
    },
    {
      "cell_type": "code",
      "source": [
        "from scipy.stats import chi2\n",
        "\n",
        "# Significance level\n",
        "alpha = 0.05\n",
        "\n",
        "# Calculate critical value\n",
        "critical_value = chi2.ppf(1 - alpha, dof)\n",
        "\n",
        "print(f\"Critical Value: {critical_value}\")\n"
      ],
      "metadata": {
        "colab": {
          "base_uri": "https://localhost:8080/"
        },
        "id": "cftU_LIk2NMT",
        "outputId": "98d1d2ee-2972-4085-e487-519d76767660"
      },
      "execution_count": null,
      "outputs": [
        {
          "output_type": "stream",
          "name": "stdout",
          "text": [
            "Critical Value: 9.487729036781154\n"
          ]
        }
      ]
    },
    {
      "cell_type": "markdown",
      "source": [
        "### Make a Decision\n",
        "- If the Chi-Square statistic is greater than the critical value, we reject the null hypothesis, indicating that there is a significant association between device type and customer satisfaction.\n",
        "- If the Chi-Square statistic is less than or equal to the critical value, we fail to reject the null hypothesis, indicating that there is no significant association.\n",
        "  \n",
        "  Code Below"
      ],
      "metadata": {
        "id": "IdY0oxKl7ZmP"
      }
    },
    {
      "cell_type": "code",
      "source": [
        "if chi2_statistic > critical_value:\n",
        "    print(\"Reject the null hypothesis: There is a significant association between device type and customer satisfaction.\")\n",
        "else:\n",
        "    print(\"Fail to reject the null hypothesis: No significant association between device type and customer satisfaction.\")\n"
      ],
      "metadata": {
        "colab": {
          "base_uri": "https://localhost:8080/"
        },
        "id": "5n336xMh2beV",
        "outputId": "241ab16c-2201-4d45-f007-04c4804dd4f2"
      },
      "execution_count": null,
      "outputs": [
        {
          "output_type": "stream",
          "name": "stdout",
          "text": [
            "Fail to reject the null hypothesis: No significant association between device type and customer satisfaction.\n"
          ]
        }
      ]
    },
    {
      "cell_type": "markdown",
      "source": [
        "### Conclusion\n",
        "- Based on the Chi-Square test for independence, we determined whether there is a significant association between the type of smart device purchased (Smart Thermostats vs. Smart Lights) and customer satisfaction.\n",
        "- After performing the test, we found that [insert decision here, i.e., \"there is\"/\"there is no\"] significant association between the device type and customer satisfaction.\n",
        "- These findings could suggest that customer satisfaction is independent of the type of device, or there might be other factors at play affecting customer satisfaction.\n"
      ],
      "metadata": {
        "id": "aX-HWZt47eW9"
      }
    }
  ]
}