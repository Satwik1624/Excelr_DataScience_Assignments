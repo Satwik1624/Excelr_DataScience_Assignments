{
  "nbformat": 4,
  "nbformat_minor": 0,
  "metadata": {
    "colab": {
      "provenance": []
    },
    "kernelspec": {
      "name": "python3",
      "display_name": "Python 3"
    },
    "language_info": {
      "name": "python"
    }
  },
  "cells": [
    {
      "cell_type": "markdown",
      "source": [
        "The null hypothesis assumes that the actual operating costs are in line with the theoretical model or lower.\n",
        "\n",
        "The alternative hypothesis claims that the actual operating costs are higher than the theoretical model.\n",
        "\n",
        "\n",
        "\n"
      ],
      "metadata": {
        "id": "eW5n0LyOHbbc"
      }
    },
    {
      "cell_type": "code",
      "source": [
        "# Hypotheses:\n",
        "# Null Hypothesis (H₀): The weekly operating cost is not higher than the theoretical cost model (W = $1000 + $5X).\n",
        "# Alternative Hypothesis (H₁): The weekly operating cost is higher than the theoretical cost model (W = $1000 + $5X).\n",
        "\n",
        "import math\n",
        "\n",
        "# Given values\n",
        "sample_mean = 3050  # Sample mean (Rs. 3050)\n",
        "theoretical_mean = 1000 + 5 * 600  # Theoretical mean (W = 1000 + 5 * X, where X = 600 units)\n",
        "std_dev = 5 * 25  # Standard deviation (5 * 25)\n",
        "n = 25  # Sample size\n",
        "\n",
        "# Calculate the test statistic (t)\n",
        "t_statistic = (sample_mean - theoretical_mean) / (std_dev / math.sqrt(n))\n",
        "\n",
        "# Display the test statistic\n",
        "print(f\"Test Statistic (t): {t_statistic}\")\n"
      ],
      "metadata": {
        "colab": {
          "base_uri": "https://localhost:8080/"
        },
        "id": "Q-DRqesAHoOU",
        "outputId": "d4f28d67-76dd-4c08-9cd7-3f3c64a409d4"
      },
      "execution_count": 1,
      "outputs": [
        {
          "output_type": "stream",
          "name": "stdout",
          "text": [
            "Test Statistic (t): -38.0\n"
          ]
        }
      ]
    },
    {
      "cell_type": "markdown",
      "source": [
        "* Sample Mean: This is the observed average operating cost across 25 restaurants, which is Rs. 3050.\n",
        "* Theoretical Mean: This is the operating cost based on the theoretical model, calculated as\n",
        "1000 + 5 × 600 = Rs 4000.\n",
        "* Standard Deviation: Since each unit's cost follows a normal distribution with a standard deviation of 25 units, the total standard deviation for the operating cost is 5×25=Rs 125.\n",
        "* Test Statistic (t): This measures how far the sample mean deviates from the theoretical mean, normalized by the standard deviation of the sample mean."
      ],
      "metadata": {
        "id": "bv8Z9WOXJt4i"
      }
    },
    {
      "cell_type": "code",
      "source": [
        "from scipy.stats import norm\n",
        "\n",
        "# Set alpha level\n",
        "alpha = 0.05\n",
        "\n",
        "# Find critical value for one-tailed test\n",
        "critical_value = norm.ppf(1 - alpha)\n",
        "\n",
        "# Display the critical value\n",
        "print(f\"Critical Value (Z): {critical_value}\")\n"
      ],
      "metadata": {
        "colab": {
          "base_uri": "https://localhost:8080/"
        },
        "id": "AkTQiCUDIUR-",
        "outputId": "cf6a69ad-ff98-465e-fe57-cf5f8831b551"
      },
      "execution_count": 2,
      "outputs": [
        {
          "output_type": "stream",
          "name": "stdout",
          "text": [
            "Critical Value (Z): 1.6448536269514722\n"
          ]
        }
      ]
    },
    {
      "cell_type": "markdown",
      "source": [
        "* Significance Level (α = 0.05): This is the threshold used to determine whether the test statistic is extreme enough to reject the null hypothesis.\n",
        "* Critical Value (Z): The critical value is obtained from the Z-distribution for a one-tailed test with a 5% significance level. For this test, the critical value is approximately 1.645."
      ],
      "metadata": {
        "id": "m7m9GrQvKkwI"
      }
    },
    {
      "cell_type": "code",
      "source": [
        "# Compare test statistic with critical value\n",
        "if t_statistic > critical_value:\n",
        "    print(\"Reject the null hypothesis: The weekly operating cost is higher than the theoretical model suggests.\")\n",
        "else:\n",
        "    print(\"Fail to reject the null hypothesis: There is no significant evidence to suggest an increase in weekly operating costs.\")\n"
      ],
      "metadata": {
        "colab": {
          "base_uri": "https://localhost:8080/"
        },
        "id": "oXTKvDJgId56",
        "outputId": "baede935-a3c0-4e92-9635-077124c29cb0"
      },
      "execution_count": 3,
      "outputs": [
        {
          "output_type": "stream",
          "name": "stdout",
          "text": [
            "Fail to reject the null hypothesis: There is no significant evidence to suggest an increase in weekly operating costs.\n"
          ]
        }
      ]
    },
    {
      "cell_type": "markdown",
      "source": [
        "Decision:\n",
        "* If the test statistic is larger than the critical value, you reject the null hypothesis, which suggests that the actual weekly operating costs are indeed higher than the theoretical model.\n",
        "* If the test statistic is smaller than or equal to the critical value, you fail to reject the null hypothesis, indicating that the observed data does not provide enough evidence to support the claim that costs have increased."
      ],
      "metadata": {
        "id": "wjXjPNQtKrlQ"
      }
    },
    {
      "cell_type": "markdown",
      "source": [
        "# Conclusion:\n",
        "# Based on the calculated test statistic and the critical value, we conclude whether the restaurant owners' claim\n",
        "# is supported by the data. If the null hypothesis is rejected, this indicates that the weekly operating costs are\n",
        "# indeed higher than what the model predicts, supporting the restaurant owners' feedback.\n"
      ],
      "metadata": {
        "id": "EN4xg9F9Ik7w"
      }
    }
  ]
}